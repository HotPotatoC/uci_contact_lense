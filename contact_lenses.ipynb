{
  "nbformat": 4,
  "nbformat_minor": 0,
  "metadata": {
    "colab": {
      "name": "contact_lenses.ipynb",
      "provenance": [],
      "collapsed_sections": []
    },
    "kernelspec": {
      "name": "python3",
      "display_name": "Python 3"
    },
    "accelerator": "GPU"
  },
  "cells": [
    {
      "cell_type": "markdown",
      "metadata": {
        "id": "Aor_HhQFCakD",
        "colab_type": "text"
      },
      "source": [
        "# Patient Contact Lenses fitting\n",
        "\n",
        "Determines the type of contact lenses needed for the patient.\n",
        "\n",
        "Source:\n",
        "\n",
        "https://archive.ics.uci.edu/ml/datasets/Lenses\n",
        "\n",
        "(a) Cendrowska, J. \"PRISM: An algorithm for inducing modular rules\",\n",
        "    International Journal of Man-Machine Studies, 1987, 27, 349-370\n",
        "\n",
        "(b) Donor: Benoit Julien (Julien@ce.cmu.edu)\n",
        "\n",
        "(c) Date: 1 August 1990\n",
        "\n",
        "\n"
      ]
    },
    {
      "cell_type": "markdown",
      "metadata": {
        "id": "jCeIRsycGMxD",
        "colab_type": "text"
      },
      "source": [
        "## **Loading the dataset**"
      ]
    },
    {
      "cell_type": "code",
      "metadata": {
        "id": "_IPGVqzECXcw",
        "colab_type": "code",
        "colab": {}
      },
      "source": [
        "import pandas as pd"
      ],
      "execution_count": 0,
      "outputs": []
    },
    {
      "cell_type": "code",
      "metadata": {
        "id": "yMQViFFJG8CR",
        "colab_type": "code",
        "colab": {
          "base_uri": "https://localhost:8080/",
          "height": 195
        },
        "outputId": "32c80495-ce67-4b15-9627-8196440c2a87"
      },
      "source": [
        "dataset = pd.read_csv('https://raw.githubusercontent.com/HotPotatoC/uci_contact_lense/master/data/lenses.csv')\n",
        "dataset.head()"
      ],
      "execution_count": 2,
      "outputs": [
        {
          "output_type": "execute_result",
          "data": {
            "text/html": [
              "<div>\n",
              "<style scoped>\n",
              "    .dataframe tbody tr th:only-of-type {\n",
              "        vertical-align: middle;\n",
              "    }\n",
              "\n",
              "    .dataframe tbody tr th {\n",
              "        vertical-align: top;\n",
              "    }\n",
              "\n",
              "    .dataframe thead th {\n",
              "        text-align: right;\n",
              "    }\n",
              "</style>\n",
              "<table border=\"1\" class=\"dataframe\">\n",
              "  <thead>\n",
              "    <tr style=\"text-align: right;\">\n",
              "      <th></th>\n",
              "      <th>Age</th>\n",
              "      <th>Spectac_Prescription</th>\n",
              "      <th>Astigmatic</th>\n",
              "      <th>Tear_Production_Rate</th>\n",
              "      <th>Contact_Lense_Type</th>\n",
              "    </tr>\n",
              "  </thead>\n",
              "  <tbody>\n",
              "    <tr>\n",
              "      <th>0</th>\n",
              "      <td>1</td>\n",
              "      <td>1</td>\n",
              "      <td>1</td>\n",
              "      <td>1</td>\n",
              "      <td>3</td>\n",
              "    </tr>\n",
              "    <tr>\n",
              "      <th>1</th>\n",
              "      <td>1</td>\n",
              "      <td>1</td>\n",
              "      <td>1</td>\n",
              "      <td>2</td>\n",
              "      <td>2</td>\n",
              "    </tr>\n",
              "    <tr>\n",
              "      <th>2</th>\n",
              "      <td>1</td>\n",
              "      <td>1</td>\n",
              "      <td>2</td>\n",
              "      <td>1</td>\n",
              "      <td>3</td>\n",
              "    </tr>\n",
              "    <tr>\n",
              "      <th>3</th>\n",
              "      <td>1</td>\n",
              "      <td>1</td>\n",
              "      <td>2</td>\n",
              "      <td>2</td>\n",
              "      <td>1</td>\n",
              "    </tr>\n",
              "    <tr>\n",
              "      <th>4</th>\n",
              "      <td>1</td>\n",
              "      <td>2</td>\n",
              "      <td>1</td>\n",
              "      <td>1</td>\n",
              "      <td>3</td>\n",
              "    </tr>\n",
              "  </tbody>\n",
              "</table>\n",
              "</div>"
            ],
            "text/plain": [
              "   Age  Spectac_Prescription  ...  Tear_Production_Rate  Contact_Lense_Type\n",
              "0    1                     1  ...                     1                   3\n",
              "1    1                     1  ...                     2                   2\n",
              "2    1                     1  ...                     1                   3\n",
              "3    1                     1  ...                     2                   1\n",
              "4    1                     2  ...                     1                   3\n",
              "\n",
              "[5 rows x 5 columns]"
            ]
          },
          "metadata": {
            "tags": []
          },
          "execution_count": 2
        }
      ]
    },
    {
      "cell_type": "markdown",
      "metadata": {
        "id": "wVrGI1W8IGeL",
        "colab_type": "text"
      },
      "source": [
        "Attribute information:\n",
        "  - Age\n",
        "    - 1: young\n",
        "    - 2: pre-presbyopic\n",
        "    - 3: presbyopic\n",
        "  - Spectacle Prescription\n",
        "    - 1: Myope\n",
        "    - 2: Hypermetrope\n",
        "  - Astigmatic:\n",
        "    - 1: no\n",
        "    - 2: yes\n",
        "  - Tear Production Rate:\n",
        "    - 1: reduced\n",
        "    - 2: normal\n",
        "  \n",
        "Classes:\n",
        "\n",
        "  3 Classes Contact_Lense_type\n",
        "  - 1: The patient should be fitted with hard contact lenses\n",
        "  - 2: The patient should be fitted with soft contact lenses\n",
        "  - 3: The patient should not be fitted with contact lenses\n",
        "\n"
      ]
    },
    {
      "cell_type": "markdown",
      "metadata": {
        "id": "hj5tn0yjJLm1",
        "colab_type": "text"
      },
      "source": [
        "## **Removing the target column**"
      ]
    },
    {
      "cell_type": "code",
      "metadata": {
        "id": "T9wcySoZI-sM",
        "colab_type": "code",
        "colab": {
          "base_uri": "https://localhost:8080/",
          "height": 195
        },
        "outputId": "8c3fc4d4-df56-4753-951c-bcf89019c017"
      },
      "source": [
        "train_x = dataset.drop(columns=[\"Contact_Lense_Type\"])\n",
        "train_x.head()"
      ],
      "execution_count": 3,
      "outputs": [
        {
          "output_type": "execute_result",
          "data": {
            "text/html": [
              "<div>\n",
              "<style scoped>\n",
              "    .dataframe tbody tr th:only-of-type {\n",
              "        vertical-align: middle;\n",
              "    }\n",
              "\n",
              "    .dataframe tbody tr th {\n",
              "        vertical-align: top;\n",
              "    }\n",
              "\n",
              "    .dataframe thead th {\n",
              "        text-align: right;\n",
              "    }\n",
              "</style>\n",
              "<table border=\"1\" class=\"dataframe\">\n",
              "  <thead>\n",
              "    <tr style=\"text-align: right;\">\n",
              "      <th></th>\n",
              "      <th>Age</th>\n",
              "      <th>Spectac_Prescription</th>\n",
              "      <th>Astigmatic</th>\n",
              "      <th>Tear_Production_Rate</th>\n",
              "    </tr>\n",
              "  </thead>\n",
              "  <tbody>\n",
              "    <tr>\n",
              "      <th>0</th>\n",
              "      <td>1</td>\n",
              "      <td>1</td>\n",
              "      <td>1</td>\n",
              "      <td>1</td>\n",
              "    </tr>\n",
              "    <tr>\n",
              "      <th>1</th>\n",
              "      <td>1</td>\n",
              "      <td>1</td>\n",
              "      <td>1</td>\n",
              "      <td>2</td>\n",
              "    </tr>\n",
              "    <tr>\n",
              "      <th>2</th>\n",
              "      <td>1</td>\n",
              "      <td>1</td>\n",
              "      <td>2</td>\n",
              "      <td>1</td>\n",
              "    </tr>\n",
              "    <tr>\n",
              "      <th>3</th>\n",
              "      <td>1</td>\n",
              "      <td>1</td>\n",
              "      <td>2</td>\n",
              "      <td>2</td>\n",
              "    </tr>\n",
              "    <tr>\n",
              "      <th>4</th>\n",
              "      <td>1</td>\n",
              "      <td>2</td>\n",
              "      <td>1</td>\n",
              "      <td>1</td>\n",
              "    </tr>\n",
              "  </tbody>\n",
              "</table>\n",
              "</div>"
            ],
            "text/plain": [
              "   Age  Spectac_Prescription  Astigmatic  Tear_Production_Rate\n",
              "0    1                     1           1                     1\n",
              "1    1                     1           1                     2\n",
              "2    1                     1           2                     1\n",
              "3    1                     1           2                     2\n",
              "4    1                     2           1                     1"
            ]
          },
          "metadata": {
            "tags": []
          },
          "execution_count": 3
        }
      ]
    },
    {
      "cell_type": "markdown",
      "metadata": {
        "id": "vBvgpkHkJa-m",
        "colab_type": "text"
      },
      "source": [
        "### Use `to_categorical()`\n",
        "\n",
        "Now that we removed the target column `Contact_Lense_Type`, We need to turn the target column into a binary matrix.\n",
        "\n",
        "Before:\n",
        "\n",
        "1 -> Hard contact lenses\n",
        "\n",
        "2 -> Soft contact lenses\n",
        "\n",
        "3 -> No contact lenses"
      ]
    },
    {
      "cell_type": "code",
      "metadata": {
        "id": "_xhjZWJTJzgu",
        "colab_type": "code",
        "colab": {
          "base_uri": "https://localhost:8080/",
          "height": 122
        },
        "outputId": "06c2c6e1-09d0-46e0-97b9-4687198f9162"
      },
      "source": [
        "try:\n",
        "  %tensorflow_version 2.x\n",
        "except Exception:\n",
        "  pass\n",
        "import tensorflow as tf\n",
        "from tensorflow import keras\n",
        "\n",
        "train_y = keras.utils.to_categorical(dataset.Contact_Lense_Type)\n",
        "train_y[0:5]"
      ],
      "execution_count": 5,
      "outputs": [
        {
          "output_type": "stream",
          "text": [
            "TensorFlow 2.x selected.\n"
          ],
          "name": "stdout"
        },
        {
          "output_type": "execute_result",
          "data": {
            "text/plain": [
              "array([[0., 0., 0., 1.],\n",
              "       [0., 0., 1., 0.],\n",
              "       [0., 0., 0., 1.],\n",
              "       [0., 1., 0., 0.],\n",
              "       [0., 0., 0., 1.]], dtype=float32)"
            ]
          },
          "metadata": {
            "tags": []
          },
          "execution_count": 5
        }
      ]
    },
    {
      "cell_type": "markdown",
      "metadata": {
        "id": "iITUbGpgKd2d",
        "colab_type": "text"
      },
      "source": [
        "[0., 1., 0., 0.] -> Hard contact lenses\n",
        "\n",
        "[0., 0., 1., 0.] -> Soft contact lenses\n",
        "\n",
        "[0., 0., 0., 1.] -> No contact lenses\n"
      ]
    },
    {
      "cell_type": "markdown",
      "metadata": {
        "id": "1VHnSj6LKwZt",
        "colab_type": "text"
      },
      "source": [
        "## Time to make our model"
      ]
    },
    {
      "cell_type": "code",
      "metadata": {
        "id": "daoAShZqK2uB",
        "colab_type": "code",
        "colab": {
          "base_uri": "https://localhost:8080/",
          "height": 298
        },
        "outputId": "afabaf0b-274b-42e3-e6a9-87bf1fe6e45a"
      },
      "source": [
        "# Gets the number of columns on the training data\n",
        "cols = train_x.shape[1]\n",
        "\n",
        "model = keras.models.Sequential()\n",
        "model.add(keras.layers.Dense(256, activation='relu', input_shape=(cols,)))\n",
        "model.add(keras.layers.Dense(256, activation='relu'))\n",
        "model.add(keras.layers.Flatten())\n",
        "model.add(keras.layers.Dense(4, activation='softmax'))\n",
        "\n",
        "model.summary()"
      ],
      "execution_count": 6,
      "outputs": [
        {
          "output_type": "stream",
          "text": [
            "Model: \"sequential\"\n",
            "_________________________________________________________________\n",
            "Layer (type)                 Output Shape              Param #   \n",
            "=================================================================\n",
            "dense (Dense)                (None, 256)               1280      \n",
            "_________________________________________________________________\n",
            "dense_1 (Dense)              (None, 256)               65792     \n",
            "_________________________________________________________________\n",
            "flatten (Flatten)            (None, 256)               0         \n",
            "_________________________________________________________________\n",
            "dense_2 (Dense)              (None, 4)                 1028      \n",
            "=================================================================\n",
            "Total params: 68,100\n",
            "Trainable params: 68,100\n",
            "Non-trainable params: 0\n",
            "_________________________________________________________________\n"
          ],
          "name": "stdout"
        }
      ]
    },
    {
      "cell_type": "markdown",
      "metadata": {
        "id": "zXJD5aj4OOn1",
        "colab_type": "text"
      },
      "source": [
        "## **Compiling the model**"
      ]
    },
    {
      "cell_type": "code",
      "metadata": {
        "id": "JsWTZRm9OQik",
        "colab_type": "code",
        "colab": {}
      },
      "source": [
        "model.compile(optimizer='adam', loss='categorical_crossentropy', metrics=['accuracy'])"
      ],
      "execution_count": 0,
      "outputs": []
    },
    {
      "cell_type": "markdown",
      "metadata": {
        "id": "4zHGC9qFP9Ak",
        "colab_type": "text"
      },
      "source": [
        "## **Train the model**"
      ]
    },
    {
      "cell_type": "code",
      "metadata": {
        "id": "EyCvHd0mOWbX",
        "colab_type": "code",
        "colab": {
          "base_uri": "https://localhost:8080/",
          "height": 1000
        },
        "outputId": "84aab812-1c74-4ad5-982a-86cfe26be851"
      },
      "source": [
        "model.fit(train_x, train_y, epochs=50)"
      ],
      "execution_count": 8,
      "outputs": [
        {
          "output_type": "stream",
          "text": [
            "WARNING:tensorflow:Falling back from v2 loop because of error: Failed to find data adapter that can handle input: <class 'pandas.core.frame.DataFrame'>, <class 'NoneType'>\n",
            "Train on 24 samples\n",
            "Epoch 1/50\n",
            "24/24 [==============================] - 1s 42ms/sample - loss: 1.3268 - accuracy: 0.2083\n",
            "Epoch 2/50\n",
            "24/24 [==============================] - 0s 148us/sample - loss: 1.1636 - accuracy: 0.6250\n",
            "Epoch 3/50\n",
            "24/24 [==============================] - 0s 168us/sample - loss: 1.0533 - accuracy: 0.6250\n",
            "Epoch 4/50\n",
            "24/24 [==============================] - 0s 119us/sample - loss: 0.9906 - accuracy: 0.6250\n",
            "Epoch 5/50\n",
            "24/24 [==============================] - 0s 129us/sample - loss: 0.9567 - accuracy: 0.6250\n",
            "Epoch 6/50\n",
            "24/24 [==============================] - 0s 147us/sample - loss: 0.9343 - accuracy: 0.6250\n",
            "Epoch 7/50\n",
            "24/24 [==============================] - 0s 120us/sample - loss: 0.9104 - accuracy: 0.6250\n",
            "Epoch 8/50\n",
            "24/24 [==============================] - 0s 177us/sample - loss: 0.8807 - accuracy: 0.6250\n",
            "Epoch 9/50\n",
            "24/24 [==============================] - 0s 170us/sample - loss: 0.8461 - accuracy: 0.6250\n",
            "Epoch 10/50\n",
            "24/24 [==============================] - 0s 131us/sample - loss: 0.8099 - accuracy: 0.6250\n",
            "Epoch 11/50\n",
            "24/24 [==============================] - 0s 126us/sample - loss: 0.7771 - accuracy: 0.6250\n",
            "Epoch 12/50\n",
            "24/24 [==============================] - 0s 122us/sample - loss: 0.7491 - accuracy: 0.6667\n",
            "Epoch 13/50\n",
            "24/24 [==============================] - 0s 138us/sample - loss: 0.7248 - accuracy: 0.7083\n",
            "Epoch 14/50\n",
            "24/24 [==============================] - 0s 132us/sample - loss: 0.7024 - accuracy: 0.7500\n",
            "Epoch 15/50\n",
            "24/24 [==============================] - 0s 141us/sample - loss: 0.6799 - accuracy: 0.8333\n",
            "Epoch 16/50\n",
            "24/24 [==============================] - 0s 158us/sample - loss: 0.6568 - accuracy: 0.8333\n",
            "Epoch 17/50\n",
            "24/24 [==============================] - 0s 151us/sample - loss: 0.6323 - accuracy: 0.8333\n",
            "Epoch 18/50\n",
            "24/24 [==============================] - 0s 118us/sample - loss: 0.6073 - accuracy: 0.8333\n",
            "Epoch 19/50\n",
            "24/24 [==============================] - 0s 129us/sample - loss: 0.5833 - accuracy: 0.8333\n",
            "Epoch 20/50\n",
            "24/24 [==============================] - 0s 139us/sample - loss: 0.5608 - accuracy: 0.8333\n",
            "Epoch 21/50\n",
            "24/24 [==============================] - 0s 197us/sample - loss: 0.5394 - accuracy: 0.8333\n",
            "Epoch 22/50\n",
            "24/24 [==============================] - 0s 124us/sample - loss: 0.5185 - accuracy: 0.8333\n",
            "Epoch 23/50\n",
            "24/24 [==============================] - 0s 133us/sample - loss: 0.4977 - accuracy: 0.8333\n",
            "Epoch 24/50\n",
            "24/24 [==============================] - 0s 107us/sample - loss: 0.4770 - accuracy: 0.8333\n",
            "Epoch 25/50\n",
            "24/24 [==============================] - 0s 110us/sample - loss: 0.4571 - accuracy: 0.8333\n",
            "Epoch 26/50\n",
            "24/24 [==============================] - 0s 141us/sample - loss: 0.4381 - accuracy: 0.8750\n",
            "Epoch 27/50\n",
            "24/24 [==============================] - 0s 118us/sample - loss: 0.4204 - accuracy: 0.9583\n",
            "Epoch 28/50\n",
            "24/24 [==============================] - 0s 138us/sample - loss: 0.4034 - accuracy: 0.9583\n",
            "Epoch 29/50\n",
            "24/24 [==============================] - 0s 120us/sample - loss: 0.3866 - accuracy: 0.9583\n",
            "Epoch 30/50\n",
            "24/24 [==============================] - 0s 109us/sample - loss: 0.3703 - accuracy: 0.9583\n",
            "Epoch 31/50\n",
            "24/24 [==============================] - 0s 166us/sample - loss: 0.3549 - accuracy: 0.9583\n",
            "Epoch 32/50\n",
            "24/24 [==============================] - 0s 116us/sample - loss: 0.3406 - accuracy: 0.9583\n",
            "Epoch 33/50\n",
            "24/24 [==============================] - 0s 122us/sample - loss: 0.3274 - accuracy: 0.9583\n",
            "Epoch 34/50\n",
            "24/24 [==============================] - 0s 111us/sample - loss: 0.3145 - accuracy: 0.9583\n",
            "Epoch 35/50\n",
            "24/24 [==============================] - 0s 104us/sample - loss: 0.3017 - accuracy: 0.9583\n",
            "Epoch 36/50\n",
            "24/24 [==============================] - 0s 103us/sample - loss: 0.2893 - accuracy: 0.9583\n",
            "Epoch 37/50\n",
            "24/24 [==============================] - 0s 112us/sample - loss: 0.2779 - accuracy: 0.9167\n",
            "Epoch 38/50\n",
            "24/24 [==============================] - 0s 114us/sample - loss: 0.2675 - accuracy: 0.9167\n",
            "Epoch 39/50\n",
            "24/24 [==============================] - 0s 119us/sample - loss: 0.2577 - accuracy: 0.9167\n",
            "Epoch 40/50\n",
            "24/24 [==============================] - 0s 111us/sample - loss: 0.2482 - accuracy: 0.9167\n",
            "Epoch 41/50\n",
            "24/24 [==============================] - 0s 125us/sample - loss: 0.2388 - accuracy: 0.9167\n",
            "Epoch 42/50\n",
            "24/24 [==============================] - 0s 204us/sample - loss: 0.2299 - accuracy: 0.9167\n",
            "Epoch 43/50\n",
            "24/24 [==============================] - 0s 197us/sample - loss: 0.2216 - accuracy: 0.9167\n",
            "Epoch 44/50\n",
            "24/24 [==============================] - 0s 145us/sample - loss: 0.2138 - accuracy: 0.9583\n",
            "Epoch 45/50\n",
            "24/24 [==============================] - 0s 144us/sample - loss: 0.2063 - accuracy: 1.0000\n",
            "Epoch 46/50\n",
            "24/24 [==============================] - 0s 146us/sample - loss: 0.1989 - accuracy: 1.0000\n",
            "Epoch 47/50\n",
            "24/24 [==============================] - 0s 417us/sample - loss: 0.1920 - accuracy: 1.0000\n",
            "Epoch 48/50\n",
            "24/24 [==============================] - 0s 149us/sample - loss: 0.1853 - accuracy: 1.0000\n",
            "Epoch 49/50\n",
            "24/24 [==============================] - 0s 172us/sample - loss: 0.1790 - accuracy: 1.0000\n",
            "Epoch 50/50\n",
            "24/24 [==============================] - 0s 244us/sample - loss: 0.1730 - accuracy: 1.0000\n"
          ],
          "name": "stdout"
        },
        {
          "output_type": "execute_result",
          "data": {
            "text/plain": [
              "<tensorflow.python.keras.callbacks.History at 0x7f69044fe9b0>"
            ]
          },
          "metadata": {
            "tags": []
          },
          "execution_count": 8
        }
      ]
    },
    {
      "cell_type": "markdown",
      "metadata": {
        "id": "pnIictZKP_ib",
        "colab_type": "text"
      },
      "source": [
        "## **Finally, time to make our prediction**"
      ]
    },
    {
      "cell_type": "code",
      "metadata": {
        "id": "hbPgryNRPbd0",
        "colab_type": "code",
        "colab": {
          "base_uri": "https://localhost:8080/",
          "height": 34
        },
        "outputId": "ea22df66-f011-4b98-81d9-c874a2336608"
      },
      "source": [
        "import numpy as np\n",
        "\n",
        "test_x = np.array([[1, 1, 1, 1]])\n",
        "predict = model.predict(test_x)\n",
        "print(np.argmax(predict))"
      ],
      "execution_count": 17,
      "outputs": [
        {
          "output_type": "stream",
          "text": [
            "3\n"
          ],
          "name": "stdout"
        }
      ]
    },
    {
      "cell_type": "markdown",
      "metadata": {
        "id": "Y4AUx6TCIm5j",
        "colab_type": "text"
      },
      "source": [
        "\n",
        "1 -> Hard contact lenses\n",
        "\n",
        "2 -> Soft contact lenses\n",
        "\n",
        "3 -> No contact lenses"
      ]
    }
  ]
}